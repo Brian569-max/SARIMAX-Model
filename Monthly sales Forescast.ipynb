{
 "cells": [
  {
   "cell_type": "code",
   "execution_count": 1,
   "metadata": {},
   "outputs": [
    {
     "name": "stdout",
     "output_type": "stream",
     "text": [
      "pandas: 0.22.0\n",
      "numpy: 1.14.0\n",
      "scipy: 1.0.0\n",
      "matplotlib: 2.1.2\n",
      "sklearn: 0.19.1\n",
      "statsmodels: 0.8.0\n"
     ]
    }
   ],
   "source": [
    "# Environment\n",
    "import pandas as pd\n",
    "print('pandas: %s' % pd.__version__)\n",
    "import numpy as np\n",
    "print('numpy: %s' % np.__version__)\n",
    "import scipy\n",
    "print('scipy: %s' % scipy.__version__)\n",
    "#data visualization\n",
    "import matplotlib\n",
    "print('matplotlib: %s' % matplotlib.__version__)\n",
    "#scikit learn\n",
    "import sklearn\n",
    "print('sklearn: %s' % sklearn.__version__)\n",
    "# statsmodels\n",
    "import statsmodels\n",
    "print('statsmodels: %s' % statsmodels.__version__)"
   ]
  },
  {
   "cell_type": "markdown",
   "metadata": {
    "collapsed": true
   },
   "source": [
    "# Problem Description\n",
    "\n",
    "The problem is to predict the number of monthly sales of champagne for the Perrin Freres .\n",
    "The dataset provides the number of monthly sales of champagne from January 1964 to September 1972, or just under 10 years of data.\n",
    "Number of observations = 150"
   ]
  },
  {
   "cell_type": "code",
   "execution_count": 2,
   "metadata": {},
   "outputs": [],
   "source": [
    "df_sales = pd.read_csv('C:\\\\Users\\\\Plaban_Nayak\\\\Desktop\\\\TimeSeries\\\\monthly-champagne-sales.csv')"
   ]
  },
  {
   "cell_type": "code",
   "execution_count": 3,
   "metadata": {},
   "outputs": [
    {
     "data": {
      "text/html": [
       "<div>\n",
       "<style scoped>\n",
       "    .dataframe tbody tr th:only-of-type {\n",
       "        vertical-align: middle;\n",
       "    }\n",
       "\n",
       "    .dataframe tbody tr th {\n",
       "        vertical-align: top;\n",
       "    }\n",
       "\n",
       "    .dataframe thead th {\n",
       "        text-align: right;\n",
       "    }\n",
       "</style>\n",
       "<table border=\"1\" class=\"dataframe\">\n",
       "  <thead>\n",
       "    <tr style=\"text-align: right;\">\n",
       "      <th></th>\n",
       "      <th>Month</th>\n",
       "      <th>Perrin Freres monthly champagne sales millions ?64-?72</th>\n",
       "    </tr>\n",
       "  </thead>\n",
       "  <tbody>\n",
       "    <tr>\n",
       "      <th>0</th>\n",
       "      <td>1964-01</td>\n",
       "      <td>2815.0</td>\n",
       "    </tr>\n",
       "    <tr>\n",
       "      <th>1</th>\n",
       "      <td>1964-02</td>\n",
       "      <td>2672.0</td>\n",
       "    </tr>\n",
       "    <tr>\n",
       "      <th>2</th>\n",
       "      <td>1964-03</td>\n",
       "      <td>2755.0</td>\n",
       "    </tr>\n",
       "    <tr>\n",
       "      <th>3</th>\n",
       "      <td>1964-04</td>\n",
       "      <td>2721.0</td>\n",
       "    </tr>\n",
       "    <tr>\n",
       "      <th>4</th>\n",
       "      <td>1964-05</td>\n",
       "      <td>2946.0</td>\n",
       "    </tr>\n",
       "  </tbody>\n",
       "</table>\n",
       "</div>"
      ],
      "text/plain": [
       "     Month  Perrin Freres monthly champagne sales millions ?64-?72\n",
       "0  1964-01                                             2815.0     \n",
       "1  1964-02                                             2672.0     \n",
       "2  1964-03                                             2755.0     \n",
       "3  1964-04                                             2721.0     \n",
       "4  1964-05                                             2946.0     "
      ]
     },
     "execution_count": 3,
     "metadata": {},
     "output_type": "execute_result"
    }
   ],
   "source": [
    "df_sales.head()"
   ]
  },
  {
   "cell_type": "markdown",
   "metadata": {},
   "source": [
    "# Test Harness\n",
    "We must develop a test harness to investigate the data and evaluate candidate models.\n",
    "\n",
    "This involves two steps:\n",
    "\n",
    "Defining a Validation Dataset.\n",
    "Developing a Method for Model Evaluation."
   ]
  },
  {
   "cell_type": "code",
   "execution_count": 6,
   "metadata": {},
   "outputs": [
    {
     "name": "stdout",
     "output_type": "stream",
     "text": [
      "90909090\n"
     ]
    }
   ],
   "source": [
    "marks= [90,90,90,90]\n",
    "print(\"\".join(map(str,marks)))"
   ]
  },
  {
   "cell_type": "markdown",
   "metadata": {},
   "source": [
    "# Validation Dataset\n",
    "The dataset is not current. This means that we cannot easily collect updated data to validate the model.\n",
    "\n",
    "Therefore we will pretend that it is September 1971 and withhold the last one year of data from analysis and model selection.\n",
    "\n",
    "This final year of data will be used to validate the final model."
   ]
  },
  {
   "cell_type": "code",
   "execution_count": 76,
   "metadata": {},
   "outputs": [
    {
     "name": "stderr",
     "output_type": "stream",
     "text": [
      "D:\\Users\\Plaban_Nayak\\AppData\\Local\\Continuum\\anaconda3\\lib\\site-packages\\pandas\\core\\series.py:2890: FutureWarning: from_csv is deprecated. Please use read_csv(...) instead. Note that some of the default arguments are different, so please refer to the documentation for from_csv when changing your function calls\n",
      "  infer_datetime_format=infer_datetime_format)\n"
     ]
    }
   ],
   "source": [
    "series1 = pd.Series.from_csv('C:\\\\Users\\\\Plaban_Nayak\\\\Desktop\\\\TimeSeries\\\\monthly-champagne-sales.csv', header=0)"
   ]
  },
  {
   "cell_type": "code",
   "execution_count": 90,
   "metadata": {},
   "outputs": [
    {
     "data": {
      "text/plain": [
       "Month\n",
       "1964-01                                                    2815.0\n",
       "1964-02                                                    2672.0\n",
       "1964-03                                                    2755.0\n",
       "1964-04                                                    2721.0\n",
       "1964-05                                                    2946.0\n",
       "1964-06                                                    3036.0\n",
       "1964-07                                                    2282.0\n",
       "1964-08                                                    2212.0\n",
       "1964-09                                                    2922.0\n",
       "1964-10                                                    4301.0\n",
       "1964-11                                                    5764.0\n",
       "1964-12                                                    7312.0\n",
       "1965-01                                                    2541.0\n",
       "1965-02                                                    2475.0\n",
       "1965-03                                                    3031.0\n",
       "1965-04                                                    3266.0\n",
       "1965-05                                                    3776.0\n",
       "1965-06                                                    3230.0\n",
       "1965-07                                                    3028.0\n",
       "1965-08                                                    1759.0\n",
       "1965-09                                                    3595.0\n",
       "1965-10                                                    4474.0\n",
       "1965-11                                                    6838.0\n",
       "1965-12                                                    8357.0\n",
       "1966-01                                                    3113.0\n",
       "1966-02                                                    3006.0\n",
       "1966-03                                                    4047.0\n",
       "1966-04                                                    3523.0\n",
       "1966-05                                                    3937.0\n",
       "1966-06                                                    3986.0\n",
       "                                                           ...   \n",
       "1970-05                                                    2927.0\n",
       "1970-06                                                    3986.0\n",
       "1970-07                                                    4217.0\n",
       "1970-08                                                    1738.0\n",
       "1970-09                                                    5221.0\n",
       "1970-10                                                    6424.0\n",
       "1970-11                                                    9842.0\n",
       "1970-12                                                   13076.0\n",
       "1971-01                                                    3934.0\n",
       "1971-02                                                    3162.0\n",
       "1971-03                                                    4286.0\n",
       "1971-04                                                    4676.0\n",
       "1971-05                                                    5010.0\n",
       "1971-06                                                    4874.0\n",
       "1971-07                                                    4633.0\n",
       "1971-08                                                    1659.0\n",
       "1971-09                                                    5951.0\n",
       "1971-10                                                    6981.0\n",
       "1971-11                                                    9851.0\n",
       "1971-12                                                   12670.0\n",
       "1972-01                                                    4348.0\n",
       "1972-02                                                    3564.0\n",
       "1972-03                                                    4577.0\n",
       "1972-04                                                    4788.0\n",
       "1972-05                                                    4618.0\n",
       "1972-06                                                    5312.0\n",
       "1972-07                                                    4298.0\n",
       "1972-08                                                    1413.0\n",
       "1972-09                                                    5877.0\n",
       "Perrin Freres monthly champagne sales millions ?64-?72        NaN\n",
       "Name: Perrin Freres monthly champagne sales millions ?64-?72, Length: 106, dtype: float64"
      ]
     },
     "execution_count": 90,
     "metadata": {},
     "output_type": "execute_result"
    }
   ],
   "source": [
    "series1"
   ]
  },
  {
   "cell_type": "code",
   "execution_count": 106,
   "metadata": {},
   "outputs": [],
   "source": [
    "dataset = np.asarray(series1)"
   ]
  },
  {
   "cell_type": "code",
   "execution_count": 109,
   "metadata": {},
   "outputs": [
    {
     "data": {
      "text/plain": [
       "array([ 2815.,  2672.,  2755.,  2721.,  2946.,  3036.,  2282.,  2212.,\n",
       "        2922.,  4301.,  5764.,  7312.,  2541.,  2475.,  3031.,  3266.,\n",
       "        3776.,  3230.,  3028.,  1759.,  3595.,  4474.,  6838.,  8357.,\n",
       "        3113.,  3006.,  4047.,  3523.,  3937.,  3986.,  3260.,  1573.,\n",
       "        3528.,  5211.,  7614.,  9254.,  5375.,  3088.,  3718.,  4514.,\n",
       "        4520.,  4539.,  3663.,  1643.,  4739.,  5428.,  8314., 10651.,\n",
       "        3633.,  4292.,  4154.,  4121.,  4647.,  4753.,  3965.,  1723.,\n",
       "        5048.,  6922.,  9858., 11331.,  4016.,  3957.,  4510.,  4276.,\n",
       "        4968.,  4677.,  3523.,  1821.,  5222.,  6872., 10803., 13916.,\n",
       "        2639.,  2899.,  3370.,  3740.,  2927.,  3986.,  4217.,  1738.,\n",
       "        5221.,  6424.,  9842., 13076.,  3934.,  3162.,  4286.,  4676.,\n",
       "        5010.,  4874.,  4633.,  1659.,  5951.,  6981.,  9851., 12670.,\n",
       "        4348.,  3564.,  4577.,  4788.,  4618.,  5312.,  4298.,  1413.,\n",
       "        5877.])"
      ]
     },
     "execution_count": 109,
     "metadata": {},
     "output_type": "execute_result"
    }
   ],
   "source": [
    "dataset = dataset[~np.isnan(dataset)]\n",
    "dataset"
   ]
  },
  {
   "cell_type": "code",
   "execution_count": 110,
   "metadata": {},
   "outputs": [
    {
     "data": {
      "text/plain": [
       "105"
      ]
     },
     "execution_count": 110,
     "metadata": {},
     "output_type": "execute_result"
    }
   ],
   "source": [
    "len(dataset)"
   ]
  },
  {
   "cell_type": "code",
   "execution_count": 115,
   "metadata": {},
   "outputs": [
    {
     "data": {
      "text/plain": [
       "array([ 2815.,  2672.,  2755.,  2721.,  2946.,  3036.,  2282.,  2212.,\n",
       "        2922.,  4301.,  5764.,  7312.,  2541.,  2475.,  3031.,  3266.,\n",
       "        3776.,  3230.,  3028.,  1759.,  3595.,  4474.,  6838.,  8357.,\n",
       "        3113.,  3006.,  4047.,  3523.,  3937.,  3986.,  3260.,  1573.,\n",
       "        3528.,  5211.,  7614.,  9254.,  5375.,  3088.,  3718.,  4514.,\n",
       "        4520.,  4539.,  3663.,  1643.,  4739.,  5428.,  8314., 10651.,\n",
       "        3633.,  4292.,  4154.,  4121.,  4647.,  4753.,  3965.,  1723.,\n",
       "        5048.,  6922.,  9858., 11331.,  4016.,  3957.,  4510.,  4276.,\n",
       "        4968.,  4677.,  3523.,  1821.,  5222.,  6872., 10803., 13916.,\n",
       "        2639.,  2899.,  3370.,  3740.,  2927.,  3986.,  4217.,  1738.,\n",
       "        5221.,  6424.,  9842., 13076.,  3934.,  3162.,  4286.,  4676.,\n",
       "        5010.,  4874.,  4633.,  1659.,  5951.,  6981.,  9851., 12670.,\n",
       "        4348.,  3564.,  4577.,  4788.,  4618.,  5312.,  4298.,  1413.,\n",
       "        5877.,    nan])"
      ]
     },
     "execution_count": 115,
     "metadata": {},
     "output_type": "execute_result"
    }
   ],
   "source": [
    "X = series1.value\n",
    "X"
   ]
  },
  {
   "cell_type": "markdown",
   "metadata": {},
   "source": [
    "Once fit, we can use the model to make a prediction by calling the predict() function for a number of observations in the future. This creates 1 7-day forecas"
   ]
  },
  {
   "cell_type": "code",
   "execution_count": 116,
   "metadata": {},
   "outputs": [],
   "source": [
    "# split dataset\n",
    "train, test = dataset[1:len(dataset)-7], dataset[len(dataset)-7:]"
   ]
  },
  {
   "cell_type": "code",
   "execution_count": 117,
   "metadata": {},
   "outputs": [
    {
     "data": {
      "text/plain": [
       "array([ 2672.,  2755.,  2721.,  2946.,  3036.,  2282.,  2212.,  2922.,\n",
       "        4301.,  5764.,  7312.,  2541.,  2475.,  3031.,  3266.,  3776.,\n",
       "        3230.,  3028.,  1759.,  3595.,  4474.,  6838.,  8357.,  3113.,\n",
       "        3006.,  4047.,  3523.,  3937.,  3986.,  3260.,  1573.,  3528.,\n",
       "        5211.,  7614.,  9254.,  5375.,  3088.,  3718.,  4514.,  4520.,\n",
       "        4539.,  3663.,  1643.,  4739.,  5428.,  8314., 10651.,  3633.,\n",
       "        4292.,  4154.,  4121.,  4647.,  4753.,  3965.,  1723.,  5048.,\n",
       "        6922.,  9858., 11331.,  4016.,  3957.,  4510.,  4276.,  4968.,\n",
       "        4677.,  3523.,  1821.,  5222.,  6872., 10803., 13916.,  2639.,\n",
       "        2899.,  3370.,  3740.,  2927.,  3986.,  4217.,  1738.,  5221.,\n",
       "        6424.,  9842., 13076.,  3934.,  3162.,  4286.,  4676.,  5010.,\n",
       "        4874.,  4633.,  1659.,  5951.,  6981.,  9851., 12670.,  4348.,\n",
       "        3564.])"
      ]
     },
     "execution_count": 117,
     "metadata": {},
     "output_type": "execute_result"
    }
   ],
   "source": [
    "train"
   ]
  },
  {
   "cell_type": "code",
   "execution_count": 118,
   "metadata": {},
   "outputs": [
    {
     "data": {
      "text/plain": [
       "array([4577., 4788., 4618., 5312., 4298., 1413., 5877.])"
      ]
     },
     "execution_count": 118,
     "metadata": {},
     "output_type": "execute_result"
    }
   ],
   "source": [
    "test"
   ]
  },
  {
   "cell_type": "markdown",
   "metadata": {},
   "source": [
    "# Auto Regressive Model using statsmodels library"
   ]
  },
  {
   "cell_type": "code",
   "execution_count": 119,
   "metadata": {},
   "outputs": [
    {
     "name": "stdout",
     "output_type": "stream",
     "text": [
      "Lag: 12\n",
      "Coefficients: [ 1.44188884e+03  1.01744031e-01 -1.04077589e-01  4.23470082e-02\n",
      " -1.16930008e-01  5.87167409e-02 -9.06855673e-02  7.01207518e-02\n",
      " -1.35531154e-01  7.00486460e-02 -7.78983338e-02  5.51447507e-02\n",
      "  8.90849482e-01]\n"
     ]
    }
   ],
   "source": [
    "from statsmodels.tsa.ar_model import AR\n",
    "# train autoregression\n",
    "model = AR(train)\n",
    "model_fit = model.fit()\n",
    "print('Lag: %s' % model_fit.k_ar)\n",
    "print('Coefficients: %s' % model_fit.params)\n",
    "# make predictions\n",
    "predictions = model_fit.predict(start=len(train), end=len(train)+len(test)-1, dynamic=False)"
   ]
  },
  {
   "cell_type": "code",
   "execution_count": 120,
   "metadata": {},
   "outputs": [
    {
     "data": {
      "text/plain": [
       "array([4122.46472382, 4717.54543353, 5156.13160207, 4969.38215431,\n",
       "       4741.0957225 , 1532.67612872, 6082.24200573])"
      ]
     },
     "execution_count": 120,
     "metadata": {},
     "output_type": "execute_result"
    }
   ],
   "source": [
    "predictions"
   ]
  },
  {
   "cell_type": "code",
   "execution_count": 123,
   "metadata": {},
   "outputs": [],
   "source": [
    "import matplotlib.pyplot as plt"
   ]
  },
  {
   "cell_type": "code",
   "execution_count": 125,
   "metadata": {},
   "outputs": [
    {
     "name": "stdout",
     "output_type": "stream",
     "text": [
      "predicted=4122.464724, expected=4577.000000\n",
      "predicted=4717.545434, expected=4788.000000\n",
      "predicted=5156.131602, expected=4618.000000\n",
      "predicted=4969.382154, expected=5312.000000\n",
      "predicted=4741.095722, expected=4298.000000\n",
      "predicted=1532.676129, expected=1413.000000\n",
      "predicted=6082.242006, expected=5877.000000\n",
      "Test MSE: 124474.178\n"
     ]
    },
    {
     "data": {
      "image/png": "[encoded data removed]",
      "text/plain": [
       "<matplotlib.figure.Figure at 0xf41e390>"
      ]
     },
     "metadata": {},
     "output_type": "display_data"
    }
   ],
   "source": [
    "for i in range(len(predictions)):\n",
    "\tprint('predicted=%f, expected=%f' % (predictions[i], test[i]))\n",
    "error = mean_squared_error(test, predictions)\n",
    "print('Test MSE: %.3f' % error)\n",
    "# plot results\n",
    "plt.plot(test,label='True Values')\n",
    "plt.plot(predictions, color='red',label='Forecasted values')\n",
    "plt.legend()\n",
    "plt.show()"
   ]
  },
  {
   "cell_type": "code",
   "execution_count": 21,
   "metadata": {},
   "outputs": [],
   "source": [
    "series = df_sales.copy()"
   ]
  },
  {
   "cell_type": "code",
   "execution_count": 23,
   "metadata": {},
   "outputs": [
    {
     "data": {
      "text/html": [
       "<div>\n",
       "<style scoped>\n",
       "    .dataframe tbody tr th:only-of-type {\n",
       "        vertical-align: middle;\n",
       "    }\n",
       "\n",
       "    .dataframe tbody tr th {\n",
       "        vertical-align: top;\n",
       "    }\n",
       "\n",
       "    .dataframe thead th {\n",
       "        text-align: right;\n",
       "    }\n",
       "</style>\n",
       "<table border=\"1\" class=\"dataframe\">\n",
       "  <thead>\n",
       "    <tr style=\"text-align: right;\">\n",
       "      <th></th>\n",
       "      <th>Perrin Freres monthly champagne sales millions ?64-?72</th>\n",
       "    </tr>\n",
       "    <tr>\n",
       "      <th>Month</th>\n",
       "      <th></th>\n",
       "    </tr>\n",
       "  </thead>\n",
       "  <tbody>\n",
       "    <tr>\n",
       "      <th>1964-01</th>\n",
       "      <td>2815.0</td>\n",
       "    </tr>\n",
       "    <tr>\n",
       "      <th>1964-02</th>\n",
       "      <td>2672.0</td>\n",
       "    </tr>\n",
       "    <tr>\n",
       "      <th>1964-03</th>\n",
       "      <td>2755.0</td>\n",
       "    </tr>\n",
       "    <tr>\n",
       "      <th>1964-04</th>\n",
       "      <td>2721.0</td>\n",
       "    </tr>\n",
       "    <tr>\n",
       "      <th>1964-05</th>\n",
       "      <td>2946.0</td>\n",
       "    </tr>\n",
       "  </tbody>\n",
       "</table>\n",
       "</div>"
      ],
      "text/plain": [
       "         Perrin Freres monthly champagne sales millions ?64-?72\n",
       "Month                                                          \n",
       "1964-01                                             2815.0     \n",
       "1964-02                                             2672.0     \n",
       "1964-03                                             2755.0     \n",
       "1964-04                                             2721.0     \n",
       "1964-05                                             2946.0     "
      ]
     },
     "execution_count": 23,
     "metadata": {},
     "output_type": "execute_result"
    }
   ],
   "source": [
    "series.set_index('Month').head()"
   ]
  },
  {
   "cell_type": "code",
   "execution_count": 26,
   "metadata": {},
   "outputs": [
    {
     "data": {
      "text/plain": [
       "106"
      ]
     },
     "execution_count": 26,
     "metadata": {},
     "output_type": "execute_result"
    }
   ],
   "source": [
    "len(series)"
   ]
  },
  {
   "cell_type": "code",
   "execution_count": 24,
   "metadata": {},
   "outputs": [],
   "source": [
    "split_point = len(series) - 12"
   ]
  },
  {
   "cell_type": "code",
   "execution_count": 25,
   "metadata": {},
   "outputs": [
    {
     "data": {
      "text/plain": [
       "94"
      ]
     },
     "execution_count": 25,
     "metadata": {},
     "output_type": "execute_result"
    }
   ],
   "source": [
    "split_point"
   ]
  },
  {
   "cell_type": "code",
   "execution_count": 27,
   "metadata": {},
   "outputs": [
    {
     "name": "stdout",
     "output_type": "stream",
     "text": [
      "Dataset 94, Validation 12\n"
     ]
    }
   ],
   "source": [
    "dataset, validation = series[0:split_point], series[split_point:]\n",
    "print('Dataset %d, Validation %d' % (len(dataset), len(validation)))\n",
    "dataset.to_csv('C:\\\\Users\\\\Plaban_Nayak\\\\Desktop\\\\TimeSeries\\\\dataset.csv')\n",
    "validation.to_csv('C:\\\\Users\\\\Plaban_Nayak\\\\Desktop\\\\TimeSeries\\\\validation.csv')"
   ]
  },
  {
   "cell_type": "markdown",
   "metadata": {},
   "source": [
    "The specific contents of these files are:\n",
    "\n",
    "dataset.csv: Observations from January 1964 to September 1971 (93 observations)\n",
    "    \n",
    "validation.csv: Observations from October 1971 to September 1972 (12 observations)\n",
    "    \n",
    "The validation dataset is about 11% of the original dataset."
   ]
  },
  {
   "cell_type": "code",
   "execution_count": 64,
   "metadata": {},
   "outputs": [
    {
     "name": "stdout",
     "output_type": "stream",
     "text": [
      "Prime Number :  11\n",
      "Prime Number :  13\n",
      "Prime Number :  17\n",
      "Prime Number :  19\n",
      "Prime Number :  23\n",
      "Prime Number :  29\n",
      "Prime Number :  31\n",
      "Prime Number :  37\n",
      "Prime Number :  41\n",
      "Prime Number :  43\n",
      "Prime Number :  47\n"
     ]
    }
   ],
   "source": [
    "index1 = 10\n",
    "index2 = 50\n",
    "for num in range(index1,index2 +1):\n",
    "    if num > 1:\n",
    "        #print(num)\n",
    "        isDivisibile = False;\n",
    "        for i in range(2,num):\n",
    "            #print(i,num,isDivisibile)\n",
    "            if num % i == 0:\n",
    "                #print(num)\n",
    "                isDivisibile = True;\n",
    "                #print(i,num,isDivisibile)\n",
    "        if not isDivisibile :\n",
    "            print('Prime Number : ',num);\n",
    "                \n",
    "            "
   ]
  },
  {
   "cell_type": "markdown",
   "metadata": {},
   "source": [
    "# Model Evaluation\n",
    "Model evaluation will only be performed on the data in dataset.csv prepared in the previous section.\n",
    "\n",
    "Model evaluation involves two elements:\n",
    "\n",
    "1. Performance Measure.\n",
    "2. Test Strategy."
   ]
  },
  {
   "cell_type": "markdown",
   "metadata": {},
   "source": [
    "Performance Measure:\n",
    "    \n",
    "    We will evaluate the performance of predictions using the root mean squared error (RMSE). This will give more weight to predictions that are grossly wrong and will have the same units as the original data.\n",
    "\n",
    "Any transforms to the data must be reversed before the RMSE is calculated and reported to make the performance between different methods directly comparable.\n",
    "\n",
    "We can calculate the RMSE using the helper function from the scikit-learn library mean_squared_error() that calculates the mean squared error between a list of expected values (the test set) and the list of predictions. We can then take the square root of this value to give us an RMSE score.\n",
    "\n",
    "\n",
    "Test Strategy\n",
    "\n",
    "\n",
    "Candidate models will be evaluated using walk-forward validation.\n",
    "\n",
    "This is because a rolling-forecast type model is required from the problem definition. This is where one-step forecasts are needed given all available data.\n",
    "\n",
    "The walk-forward validation will work as follows:\n",
    "\n",
    "The first 50% of the dataset will be held back to train the model.\n",
    "The remaining 50% of the dataset will be iterated and test the model.\n",
    "For each step in the test dataset:\n",
    "A model will be trained.\n",
    "A one-step prediction made and the prediction stored for later evaluation.\n",
    "The actual observation from the test dataset will be added to the training dataset for the next iteration.\n",
    "The predictions made during the iteration of the test dataset will be evaluated and an RMSE score reported.\n",
    "Given the small size of the data, we will allow a model to be re-trained given all available data prior to each prediction."
   ]
  },
  {
   "cell_type": "markdown",
   "metadata": {},
   "source": [
    "# Persistence\n",
    "\n",
    "\n",
    "The first step before getting bogged down in data analysis and modeling is to establish a baseline of performance.\n",
    "\n",
    "This will provide both a template for evaluating models using the proposed test harness and a performance measure by which all more elaborate predictive models can be compared.\n",
    "\n",
    "The baseline prediction for time series forecasting is called the naive forecast, or persistence.\n",
    "\n",
    "This is where the observation from the previous time step is used as the prediction for the observation at the next time step."
   ]
  },
  {
   "cell_type": "code",
   "execution_count": 73,
   "metadata": {},
   "outputs": [
    {
     "name": "stdout",
     "output_type": "stream",
     "text": [
      "history :  [  46. 8314.]\n",
      "obs :  [   47. 10651.]\n",
      ">Predicted=46.000, Expected= 47\n",
      "history :  [   47. 10651.]\n",
      "obs :  [  48. 3633.]\n",
      ">Predicted=47.000, Expected= 48\n",
      "history :  [  48. 3633.]\n",
      "obs :  [  49. 4292.]\n",
      ">Predicted=48.000, Expected= 49\n",
      "history :  [  49. 4292.]\n",
      "obs :  [  50. 4154.]\n",
      ">Predicted=49.000, Expected= 50\n",
      "history :  [  50. 4154.]\n",
      "obs :  [  51. 4121.]\n",
      ">Predicted=50.000, Expected= 51\n",
      "history :  [  51. 4121.]\n",
      "obs :  [  52. 4647.]\n",
      ">Predicted=51.000, Expected= 52\n",
      "history :  [  52. 4647.]\n",
      "obs :  [  53. 4753.]\n",
      ">Predicted=52.000, Expected= 53\n",
      "history :  [  53. 4753.]\n",
      "obs :  [  54. 3965.]\n",
      ">Predicted=53.000, Expected= 54\n",
      "history :  [  54. 3965.]\n",
      "obs :  [  55. 1723.]\n",
      ">Predicted=54.000, Expected= 55\n",
      "history :  [  55. 1723.]\n",
      "obs :  [  56. 5048.]\n",
      ">Predicted=55.000, Expected= 56\n",
      "history :  [  56. 5048.]\n",
      "obs :  [  57. 6922.]\n",
      ">Predicted=56.000, Expected= 57\n",
      "history :  [  57. 6922.]\n",
      "obs :  [  58. 9858.]\n",
      ">Predicted=57.000, Expected= 58\n",
      "history :  [  58. 9858.]\n",
      "obs :  [   59. 11331.]\n",
      ">Predicted=58.000, Expected= 59\n",
      "history :  [   59. 11331.]\n",
      "obs :  [  60. 4016.]\n",
      ">Predicted=59.000, Expected= 60\n",
      "history :  [  60. 4016.]\n",
      "obs :  [  61. 3957.]\n",
      ">Predicted=60.000, Expected= 61\n",
      "history :  [  61. 3957.]\n",
      "obs :  [  62. 4510.]\n",
      ">Predicted=61.000, Expected= 62\n",
      "history :  [  62. 4510.]\n",
      "obs :  [  63. 4276.]\n",
      ">Predicted=62.000, Expected= 63\n",
      "history :  [  63. 4276.]\n",
      "obs :  [  64. 4968.]\n",
      ">Predicted=63.000, Expected= 64\n",
      "history :  [  64. 4968.]\n",
      "obs :  [  65. 4677.]\n",
      ">Predicted=64.000, Expected= 65\n",
      "history :  [  65. 4677.]\n",
      "obs :  [  66. 3523.]\n",
      ">Predicted=65.000, Expected= 66\n",
      "history :  [  66. 3523.]\n",
      "obs :  [  67. 1821.]\n",
      ">Predicted=66.000, Expected= 67\n",
      "history :  [  67. 1821.]\n",
      "obs :  [  68. 5222.]\n",
      ">Predicted=67.000, Expected= 68\n",
      "history :  [  68. 5222.]\n",
      "obs :  [  69. 6872.]\n",
      ">Predicted=68.000, Expected= 69\n",
      "history :  [  69. 6872.]\n",
      "obs :  [   70. 10803.]\n",
      ">Predicted=69.000, Expected= 70\n",
      "history :  [   70. 10803.]\n",
      "obs :  [   71. 13916.]\n",
      ">Predicted=70.000, Expected= 71\n",
      "history :  [   71. 13916.]\n",
      "obs :  [  72. 2639.]\n",
      ">Predicted=71.000, Expected= 72\n",
      "history :  [  72. 2639.]\n",
      "obs :  [  73. 2899.]\n",
      ">Predicted=72.000, Expected= 73\n",
      "history :  [  73. 2899.]\n",
      "obs :  [  74. 3370.]\n",
      ">Predicted=73.000, Expected= 74\n",
      "history :  [  74. 3370.]\n",
      "obs :  [  75. 3740.]\n",
      ">Predicted=74.000, Expected= 75\n",
      "history :  [  75. 3740.]\n",
      "obs :  [  76. 2927.]\n",
      ">Predicted=75.000, Expected= 76\n",
      "history :  [  76. 2927.]\n",
      "obs :  [  77. 3986.]\n",
      ">Predicted=76.000, Expected= 77\n",
      "history :  [  77. 3986.]\n",
      "obs :  [  78. 4217.]\n",
      ">Predicted=77.000, Expected= 78\n",
      "history :  [  78. 4217.]\n",
      "obs :  [  79. 1738.]\n",
      ">Predicted=78.000, Expected= 79\n",
      "history :  [  79. 1738.]\n",
      "obs :  [  80. 5221.]\n",
      ">Predicted=79.000, Expected= 80\n",
      "history :  [  80. 5221.]\n",
      "obs :  [  81. 6424.]\n",
      ">Predicted=80.000, Expected= 81\n",
      "history :  [  81. 6424.]\n",
      "obs :  [  82. 9842.]\n",
      ">Predicted=81.000, Expected= 82\n",
      "history :  [  82. 9842.]\n",
      "obs :  [   83. 13076.]\n",
      ">Predicted=82.000, Expected= 83\n",
      "history :  [   83. 13076.]\n",
      "obs :  [  84. 3934.]\n",
      ">Predicted=83.000, Expected= 84\n",
      "history :  [  84. 3934.]\n",
      "obs :  [  85. 3162.]\n",
      ">Predicted=84.000, Expected= 85\n",
      "history :  [  85. 3162.]\n",
      "obs :  [  86. 4286.]\n",
      ">Predicted=85.000, Expected= 86\n",
      "history :  [  86. 4286.]\n",
      "obs :  [  87. 4676.]\n",
      ">Predicted=86.000, Expected= 87\n",
      "history :  [  87. 4676.]\n",
      "obs :  [  88. 5010.]\n",
      ">Predicted=87.000, Expected= 88\n",
      "history :  [  88. 5010.]\n",
      "obs :  [  89. 4874.]\n",
      ">Predicted=88.000, Expected= 89\n",
      "history :  [  89. 4874.]\n",
      "obs :  [  90. 4633.]\n",
      ">Predicted=89.000, Expected= 90\n",
      "history :  [  90. 4633.]\n",
      "obs :  [  91. 1659.]\n",
      ">Predicted=90.000, Expected= 91\n",
      "history :  [  91. 1659.]\n",
      "obs :  [  92. 5951.]\n",
      ">Predicted=91.000, Expected= 92\n",
      "history :  [  92. 5951.]\n",
      "obs :  [  93. 6981.]\n",
      ">Predicted=92.000, Expected= 93\n",
      "RMSE: 2235.973\n"
     ]
    }
   ],
   "source": [
    "from sklearn.metrics import mean_squared_error\n",
    "from math import sqrt\n",
    "\n",
    "# load data\n",
    "series_dataset = pd.read_csv('C:\\\\Users\\\\Plaban_Nayak\\\\Desktop\\\\TimeSeries\\\\dataset.csv')\n",
    "series_dataset.reset_index()\n",
    "series_dataset = series_dataset.set_index('Month')\n",
    "# prepare data\n",
    "X = series_dataset.values\n",
    "X = X.astype('float32')\n",
    "train_size = int(len(X) * 0.50)\n",
    "train, test = X[0:train_size], X[train_size:]\n",
    "# walk-forward validation\n",
    "history = [x for x in train]\n",
    "predictions = list()\n",
    "for i in range(len(test)):\n",
    "    # predict\n",
    "    print(\"history : \",history[-1])\n",
    "    yhat = history[-1]\n",
    "    predictions.append(yhat)\n",
    "    # observation\n",
    "    obs = test[i]\n",
    "    print(\"obs : \",obs)\n",
    "    history.append(obs)\n",
    "    print('>Predicted=%.3f, Expected=%3.f' % (yhat[0], obs[0]))\n",
    "# report performance\n",
    "mse = mean_squared_error(test, predictions)\n",
    "rmse = sqrt(mse)\n",
    "print('RMSE: %.3f' % rmse)\n",
    "\n"
   ]
  },
  {
   "cell_type": "markdown",
   "metadata": {},
   "source": [
    "# Data Analysis\n",
    "\n",
    "We can use summary statistics and plots of the data to quickly learn more about the structure of the prediction problem.\n",
    "\n",
    "In this section, we will look at the data from five perspectives:\n",
    "\n",
    "1. Summary Statistics.\n",
    "\n",
    "2. Line Plot.\n",
    "\n",
    "3. Seasonal Line Plots\n",
    "\n",
    "4. Density Plots.\n",
    "\n",
    "5. Box and Whisker Plot."
   ]
  },
  {
   "cell_type": "markdown",
   "metadata": {},
   "source": [
    "# Summary Statistics\n",
    "\n",
    "Summary statistics provide a quick look at the limits of observed values. It can help to get a quick idea of what we are working with."
   ]
  },
  {
   "cell_type": "code",
   "execution_count": 75,
   "metadata": {},
   "outputs": [
    {
     "name": "stdout",
     "output_type": "stream",
     "text": [
      "count       94.000000\n",
      "mean      4666.010638\n",
      "std       2484.748262\n",
      "min       1573.000000\n",
      "25%       3049.000000\n",
      "50%       4031.500000\n",
      "75%       5170.250000\n",
      "max      13916.000000\n",
      "Name: Perrin Freres monthly champagne sales millions ?64-?72, dtype: float64\n"
     ]
    }
   ],
   "source": [
    "print(series_dataset['Perrin Freres monthly champagne sales millions ?64-?72'].describe())"
   ]
  },
  {
   "cell_type": "markdown",
   "metadata": {},
   "source": [
    "Some observations from these statistics include:\n",
    "\n",
    "The number of observations (count) matches our expectation, meaning we are handling the data correctly.\n",
    "\n",
    "The mean is about 4,666, which we might consider our level in this series.\n",
    "\n",
    "The standard deviation (average spread from the mean) is relatively large at 2,484 sales.\n",
    "\n",
    "The percentiles along with the standard deviation do suggest a large spread to the data."
   ]
  },
  {
   "cell_type": "code",
   "execution_count": null,
   "metadata": {},
   "outputs": [],
   "source": []
  }
 ],
 "metadata": {
  "kernelspec": {
   "display_name": "Python 3",
   "language": "python",
   "name": "python3"
  },
  "language_info": {
   "codemirror_mode": {
    "name": "ipython",
    "version": 3
   },
   "file_extension": ".py",
   "mimetype": "text/x-python",
   "name": "python",
   "nbconvert_exporter": "python",
   "pygments_lexer": "ipython3",
   "version": "3.6.4"
  }
 },
 "nbformat": 4,
 "nbformat_minor": 2
}
